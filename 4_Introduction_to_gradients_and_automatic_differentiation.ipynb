{
  "nbformat": 4,
  "nbformat_minor": 0,
  "metadata": {
    "colab": {
      "provenance": [],
      "authorship_tag": "ABX9TyONzWExvtcQh34u9Ykpyzus",
      "include_colab_link": true
    },
    "kernelspec": {
      "name": "python3",
      "display_name": "Python 3"
    },
    "language_info": {
      "name": "python"
    }
  },
  "cells": [
    {
      "cell_type": "markdown",
      "metadata": {
        "id": "view-in-github",
        "colab_type": "text"
      },
      "source": [
        "<a href=\"https://colab.research.google.com/github/marlo37/Tensorflow/blob/main/4_Introduction_to_gradients_and_automatic_differentiation.ipynb\" target=\"_parent\"><img src=\"https://colab.research.google.com/assets/colab-badge.svg\" alt=\"Open In Colab\"/></a>"
      ]
    },
    {
      "cell_type": "markdown",
      "source": [
        "##### Copyright 2020 The TensorFlow Authors."
      ],
      "metadata": {
        "id": "XT25w744j2rL"
      }
    },
    {
      "cell_type": "code",
      "execution_count": null,
      "metadata": {
        "cellView": "form",
        "id": "Q2yx9ODkjvde"
      },
      "outputs": [],
      "source": [
        "#@title Licensed under the Apache License, Version 2.0 (the \"License\");\n",
        "# you may not use this file except in compliance with the License.\n",
        "# You may obtain a copy of the License at\n",
        "#\n",
        "# https://www.apache.org/licenses/LICENSE-2.0\n",
        "#\n",
        "# Unless required by applicable law or agreed to in writing, software\n",
        "# distributed under the License is distributed on an \"AS IS\" BASIS,\n",
        "# WITHOUT WARRANTIES OR CONDITIONS OF ANY KIND, either express or implied.\n",
        "# See the License for the specific language governing permissions and\n",
        "# limitations under the License."
      ]
    },
    {
      "cell_type": "markdown",
      "source": [
        "# Introduction to gradients and automatic differentiation"
      ],
      "metadata": {
        "id": "BBOE-tkCj8_b"
      }
    },
    {
      "cell_type": "markdown",
      "metadata": {
        "id": "MfBg1C5NB3X0"
      },
      "source": [
        "<table class=\"tfo-notebook-buttons\" align=\"left\">\n",
        "  <td>\n",
        "    <a target=\"_blank\" href=\"https://www.tensorflow.org/guide/autodiff\"><img src=\"https://www.tensorflow.org/images/tf_logo_32px.png\" />View on TensorFlow.org</a>\n",
        "  </td>\n",
        "  <td>\n",
        "    <a target=\"_blank\" href=\"https://colab.research.google.com/github/tensorflow/docs/blob/master/site/en/guide/autodiff.ipynb\"><img src=\"https://www.tensorflow.org/images/colab_logo_32px.png\" />Run in Google Colab</a>\n",
        "  </td>\n",
        "  <td>\n",
        "    <a target=\"_blank\" href=\"https://github.com/tensorflow/docs/blob/master/site/en/guide/autodiff.ipynb\"><img src=\"https://www.tensorflow.org/images/GitHub-Mark-32px.png\" />View source on GitHub</a>\n",
        "  </td>\n",
        "  <td>\n",
        "    <a href=\"https://storage.googleapis.com/tensorflow_docs/docs/site/en/guide/autodiff.ipynb\"><img src=\"https://www.tensorflow.org/images/download_logo_32px.png\" />Download notebook</a>\n",
        "  </td>\n",
        "</table>"
      ]
    },
    {
      "cell_type": "markdown",
      "source": [
        "## Automatic Differentiation and Gradients\n",
        "\n",
        "[Automatic differentiation](https://en.wikipedia.org/wiki/Automatic_differentiation)\n",
        "is useful for implementing machine learning algorithms such as\n",
        "[backpropagation](https://en.wikipedia.org/wiki/Backpropagation) for training\n",
        "neural networks.\n",
        "\n",
        "In this guide, you will explore ways to compute gradients with TensorFlow, especially in eager execution."
      ],
      "metadata": {
        "id": "heHBMyfPkC-L"
      }
    },
    {
      "cell_type": "markdown",
      "source": [
        "## Setup"
      ],
      "metadata": {
        "id": "KEkrzpBWkE5B"
      }
    },
    {
      "cell_type": "code",
      "source": [
        "import numpy as np\n",
        "import matplotlib.pyplot as plt\n",
        "\n",
        "import tensorflow as tf"
      ],
      "metadata": {
        "id": "vmhe6qPdj9pl"
      },
      "execution_count": null,
      "outputs": []
    },
    {
      "cell_type": "markdown",
      "source": [
        "## Computing gradients\n",
        "\n",
        "To differentiate automatically, TensorFlow needs to remember what operations happen in what order during the *forward* pass.  Then, during the *backward pass*, TensorFlow traverses this list of operations in reverse order to compute gradients."
      ],
      "metadata": {
        "id": "Fvla8XQZkQw2"
      }
    },
    {
      "cell_type": "markdown",
      "source": [
        "자동으로 미분하기 위해 TensorFlow는 정방향 패스 중에 어떤 Ops이 어떤 순서로 발생하는지 기억해야 합니다. 그런 다음 역방향 패스 중에 TensorFlow는 이 Ops 목록을 역순으로 탐색하여 기울기를 계산합니다."
      ],
      "metadata": {
        "id": "bc-K3-19kTB8"
      }
    },
    {
      "cell_type": "markdown",
      "source": [
        "## Gradient tapes\n",
        "\n",
        "TensorFlow provides the `tf.GradientTape` API for automatic differentiation; that is, computing the gradient of a computation with respect to some inputs, usually `tf.Variable`s.\n",
        "TensorFlow \"records\" relevant operations executed inside the context of a `tf.GradientTape` onto a \"tape\". TensorFlow then uses that tape to compute the gradients of a \"recorded\" computation using [reverse mode differentiation](https://en.wikipedia.org/wiki/Automatic_differentiation).\n",
        "\n",
        "Here is a simple example:"
      ],
      "metadata": {
        "id": "nKWipSB7kUYd"
      }
    },
    {
      "cell_type": "markdown",
      "source": [
        "TensorFlow는 자동 미분을 위해 tf.GradientTape API를 제공합니다. 즉, 일반적으로 tf.Variables와 같은 일부 입력에 대한 계산의 gradients를 계산합니다. TensorFlow는 tf.GradientTape 컨텍스트 내에서 실행된 관련 Ops을 \"테이프\"에 \"기록\"합니다. 그런 다음 TensorFlow는 해당 테이프를 사용하여 `reverse 모드 미분`을 사용하여 \"기록된\" 계산의 gradients를 계산합니다.\n",
        "\n",
        "다음은 간단한 예입니다."
      ],
      "metadata": {
        "id": "tPIsaqqdkWlu"
      }
    },
    {
      "cell_type": "code",
      "source": [
        "xx = 4\n",
        "yy = xx**3\n",
        "print(yy)"
      ],
      "metadata": {
        "colab": {
          "base_uri": "https://localhost:8080/"
        },
        "id": "ak9Kh9SakX6x",
        "outputId": "250290d4-bfa3-472b-e13f-a4cd3dc705a0"
      },
      "execution_count": null,
      "outputs": [
        {
          "output_type": "stream",
          "name": "stdout",
          "text": [
            "64\n"
          ]
        }
      ]
    },
    {
      "cell_type": "code",
      "source": [
        "x = tf.Variable(3.0)\n",
        "\n",
        "with tf.GradientTape() as tape: # current persistent[default:false]\n",
        "  y = x**2  # y' = 2x"
      ],
      "metadata": {
        "id": "bEGA4UYpkdkA"
      },
      "execution_count": null,
      "outputs": []
    },
    {
      "cell_type": "markdown",
      "source": [
        "Once you've recorded some operations, use `GradientTape.gradient(target, sources)` to calculate the gradient of some target (often a loss) relative to some source (often the model's variables):"
      ],
      "metadata": {
        "id": "WOvGwhTqkfqK"
      }
    },
    {
      "cell_type": "markdown",
      "source": [
        "일부 Ops을 기록했으면 `GradientTape.gradient(target, sources)`를 사용하여 일부 소스(종종 모델의 변수)에 대한 일부 타겟(종종 loss)의 기울기를 계산합니다."
      ],
      "metadata": {
        "id": "V_x6qjJtkhp5"
      }
    },
    {
      "cell_type": "code",
      "source": [
        "# dy = 2x * dx\n",
        "dy_dx = tape.gradient(y, x)\n",
        "dy_dx.numpy()\n",
        "print(dy_dx)"
      ],
      "metadata": {
        "colab": {
          "base_uri": "https://localhost:8080/"
        },
        "id": "-8Fq0qubkjX4",
        "outputId": "4f34a9cf-e3a3-43b9-d1ac-f65c787d0f06"
      },
      "execution_count": null,
      "outputs": [
        {
          "output_type": "stream",
          "name": "stdout",
          "text": [
            "tf.Tensor(6.0, shape=(), dtype=float32)\n"
          ]
        }
      ]
    },
    {
      "cell_type": "code",
      "source": [
        "dy_dx = tape.gradient(y, x)"
      ],
      "metadata": {
        "colab": {
          "base_uri": "https://localhost:8080/",
          "height": 312
        },
        "id": "NXg2wXstk4Ya",
        "outputId": "aedb98b9-e221-4192-b51d-28b24a499219"
      },
      "execution_count": null,
      "outputs": [
        {
          "output_type": "error",
          "ename": "RuntimeError",
          "evalue": "A non-persistent GradientTape can only be used to compute one set of gradients (or jacobians)",
          "traceback": [
            "\u001b[0;31m---------------------------------------------------------------------------\u001b[0m",
            "\u001b[0;31mRuntimeError\u001b[0m                              Traceback (most recent call last)",
            "\u001b[0;32m<ipython-input-7-aeb59fe979f1>\u001b[0m in \u001b[0;36m<cell line: 1>\u001b[0;34m()\u001b[0m\n\u001b[0;32m----> 1\u001b[0;31m \u001b[0mdy_dx\u001b[0m \u001b[0;34m=\u001b[0m \u001b[0mtape\u001b[0m\u001b[0;34m.\u001b[0m\u001b[0mgradient\u001b[0m\u001b[0;34m(\u001b[0m\u001b[0my\u001b[0m\u001b[0;34m,\u001b[0m \u001b[0mx\u001b[0m\u001b[0;34m)\u001b[0m\u001b[0;34m\u001b[0m\u001b[0;34m\u001b[0m\u001b[0m\n\u001b[0m",
            "\u001b[0;32m/usr/local/lib/python3.10/dist-packages/tensorflow/python/eager/backprop.py\u001b[0m in \u001b[0;36mgradient\u001b[0;34m(self, target, sources, output_gradients, unconnected_gradients)\u001b[0m\n\u001b[1;32m   1003\u001b[0m     \"\"\"\n\u001b[1;32m   1004\u001b[0m     \u001b[0;32mif\u001b[0m \u001b[0mself\u001b[0m\u001b[0;34m.\u001b[0m\u001b[0m_tape\u001b[0m \u001b[0;32mis\u001b[0m \u001b[0;32mNone\u001b[0m\u001b[0;34m:\u001b[0m\u001b[0;34m\u001b[0m\u001b[0;34m\u001b[0m\u001b[0m\n\u001b[0;32m-> 1005\u001b[0;31m       raise RuntimeError(\"A non-persistent GradientTape can only be used to \"\n\u001b[0m\u001b[1;32m   1006\u001b[0m                          \"compute one set of gradients (or jacobians)\")\n\u001b[1;32m   1007\u001b[0m     \u001b[0;32mif\u001b[0m \u001b[0mself\u001b[0m\u001b[0;34m.\u001b[0m\u001b[0m_recording\u001b[0m\u001b[0;34m:\u001b[0m\u001b[0;34m\u001b[0m\u001b[0;34m\u001b[0m\u001b[0m\n",
            "\u001b[0;31mRuntimeError\u001b[0m: A non-persistent GradientTape can only be used to compute one set of gradients (or jacobians)"
          ]
        }
      ]
    },
    {
      "cell_type": "markdown",
      "source": [
        "The above example uses scalars, but `tf.GradientTape` works as easily on any tensor:"
      ],
      "metadata": {
        "id": "QfbNLpe-k7BB"
      }
    },
    {
      "cell_type": "markdown",
      "source": [
        "위의 예는 스칼라(소스가 스칼라)를 사용하지만 tf.GradientTape는 모든 텐서에서 쉽게 작동합니다."
      ],
      "metadata": {
        "id": "YyLIGLvNkZ6j"
      }
    },
    {
      "cell_type": "code",
      "source": [
        "meanx = tf.constant([[1., 1.], [2., 2.]])\n",
        "tf.reduce_mean(meanx)"
      ],
      "metadata": {
        "colab": {
          "base_uri": "https://localhost:8080/"
        },
        "id": "uOxk4RlCk-ft",
        "outputId": "270868eb-b7de-4b8b-f3f5-a9ac0b9f30cc"
      },
      "execution_count": null,
      "outputs": [
        {
          "output_type": "execute_result",
          "data": {
            "text/plain": [
              "<tf.Tensor: shape=(), dtype=float32, numpy=1.5>"
            ]
          },
          "metadata": {},
          "execution_count": 8
        }
      ]
    },
    {
      "cell_type": "code",
      "source": [
        "w = tf.Variable(tf.random.normal((3, 2)), name='w')\n",
        "b = tf.Variable(tf.zeros(2, dtype=tf.float32), name='b')\n",
        "x = [[1., 2., 3.]]\n",
        "\n",
        "with tf.GradientTape(persistent=True) as tape: #persistent[default:False]\n",
        "  y = x @ w + b\n",
        "  loss = tf.reduce_mean(y**2)"
      ],
      "metadata": {
        "id": "Dzi9zZiLlAK9"
      },
      "execution_count": null,
      "outputs": []
    },
    {
      "cell_type": "markdown",
      "source": [
        "To get the gradient of `loss` with respect to both variables, you can pass both as sources to the `gradient` method. The tape is flexible about how sources are passed and will accept any nested combination of lists or dictionaries and return the gradient structured the same way (see `tf.nest`)."
      ],
      "metadata": {
        "id": "makOJAF6lB7q"
      }
    },
    {
      "cell_type": "markdown",
      "source": [
        "두 변수에 대한 손실 기울기를 얻으려면 둘 다 `gradient` 메소드에 소스로 전달할 수 있습니다. 테이프는 소스가 전달되는 방식에 대해 유연하며 `list` 또는 `dictionary`의 중첩된 조합을 허용하고 동일한 방식으로 구조화된 그래디언트를 반환합니다(tf.nest 참조)."
      ],
      "metadata": {
        "id": "RyBCBGUAlDgb"
      }
    },
    {
      "cell_type": "code",
      "source": [
        "[dl_dw, dl_db] = tape.gradient(loss, [w, b])\n",
        "print(dl_dw)\n",
        "print(dl_db)"
      ],
      "metadata": {
        "colab": {
          "base_uri": "https://localhost:8080/"
        },
        "id": "fbG8L1A1lExj",
        "outputId": "07ed9e2e-aef0-4eed-baa4-da7b3706464d"
      },
      "execution_count": null,
      "outputs": [
        {
          "output_type": "stream",
          "name": "stdout",
          "text": [
            "tf.Tensor(\n",
            "[[-0.95340586 -1.4424624 ]\n",
            " [-1.9068117  -2.884925  ]\n",
            " [-2.8602176  -4.3273873 ]], shape=(3, 2), dtype=float32)\n",
            "tf.Tensor([-0.95340586 -1.4424624 ], shape=(2,), dtype=float32)\n"
          ]
        }
      ]
    },
    {
      "cell_type": "code",
      "source": [
        "print(dl_db)"
      ],
      "metadata": {
        "colab": {
          "base_uri": "https://localhost:8080/"
        },
        "id": "84eRxoAilGPe",
        "outputId": "7448bf00-f9d3-4364-acb3-df5525ec50f4"
      },
      "execution_count": null,
      "outputs": [
        {
          "output_type": "stream",
          "name": "stdout",
          "text": [
            "tf.Tensor([-0.95340586 -1.4424624 ], shape=(2,), dtype=float32)\n"
          ]
        }
      ]
    },
    {
      "cell_type": "markdown",
      "source": [
        "The gradient with respect to each source has the shape of the source:"
      ],
      "metadata": {
        "id": "dXkd3ql5lIPK"
      }
    },
    {
      "cell_type": "markdown",
      "source": [
        "각 소스에 대한 gradient는 소스의 shape을 갖습니다."
      ],
      "metadata": {
        "id": "VtDAHxBvlJwU"
      }
    },
    {
      "cell_type": "code",
      "source": [
        "print(w.shape)\n",
        "print(dl_dw.shape)"
      ],
      "metadata": {
        "colab": {
          "base_uri": "https://localhost:8080/"
        },
        "id": "B3cBTbABlK11",
        "outputId": "b34d73d6-772e-4a58-e36a-a85b5b97c3c0"
      },
      "execution_count": null,
      "outputs": [
        {
          "output_type": "stream",
          "name": "stdout",
          "text": [
            "(3, 2)\n",
            "(3, 2)\n"
          ]
        }
      ]
    },
    {
      "cell_type": "markdown",
      "source": [
        "Here is the gradient calculation again, this time passing a dictionary of variables:"
      ],
      "metadata": {
        "id": "DrTaI0odlMbL"
      }
    },
    {
      "cell_type": "markdown",
      "source": [
        "다음은 다시 gradient 계산입니다. 이번에는 dictionary 타입의 변수를 전달합니다."
      ],
      "metadata": {
        "id": "04YvOH-PlOOV"
      }
    },
    {
      "cell_type": "code",
      "source": [
        "my_vars = {\n",
        "    'w': w,\n",
        "    'b': b\n",
        "}\n",
        "\n",
        "grad = tape.gradient(loss, my_vars)\n",
        "print(grad['w'])\n",
        "print(grad['b'])"
      ],
      "metadata": {
        "colab": {
          "base_uri": "https://localhost:8080/"
        },
        "id": "y6cIRmh9lNG0",
        "outputId": "24b212df-3a32-4693-e8e3-a3e34aea92f5"
      },
      "execution_count": null,
      "outputs": [
        {
          "output_type": "stream",
          "name": "stdout",
          "text": [
            "tf.Tensor(\n",
            "[[-0.95340586 -1.4424624 ]\n",
            " [-1.9068117  -2.884925  ]\n",
            " [-2.8602176  -4.3273873 ]], shape=(3, 2), dtype=float32)\n",
            "tf.Tensor([-0.95340586 -1.4424624 ], shape=(2,), dtype=float32)\n"
          ]
        }
      ]
    },
    {
      "cell_type": "code",
      "source": [
        "del tape"
      ],
      "metadata": {
        "id": "qb3x9386lTRx"
      },
      "execution_count": null,
      "outputs": []
    },
    {
      "cell_type": "markdown",
      "source": [
        "## Gradients with respect to a model\n",
        "\n",
        "It's common to collect `tf.Variables` into a `tf.Module` or one of its subclasses (`layers.Layer`, `keras.Model`) for [checkpointing](checkpoint.ipynb) and [exporting](saved_model.ipynb).\n",
        "\n",
        "In most cases, you will want to calculate gradients with respect to a model's trainable variables.  Since all subclasses of `tf.Module` aggregate their variables in the `Module.trainable_variables` property, you can calculate these gradients in a few lines of code:"
      ],
      "metadata": {
        "id": "GLcAwvZzlXzC"
      }
    },
    {
      "cell_type": "markdown",
      "source": [
        "checkpointing 및 exporting를 위해 tf.Variables를 tf.Module 또는 tf.Module 하위 클래스(layers.Layer, keras.Model) 중 하나로 collect하는 것이 일반적입니다.\n",
        "\n",
        "대부분의 경우 모델의 학습 가능한 변수에 대한 gradient를 계산하려고 합니다. **tf.Module의 모든 하위 클래스는 Module.trainable_variables 속성에서 변수를 집계(aggregate)**하므로 몇 줄의 코드로 이러한 gradient를 계산할 수 있습니다."
      ],
      "metadata": {
        "id": "vQAfkUeTlaSX"
      }
    },
    {
      "cell_type": "code",
      "source": [
        "layer = tf.keras.layers.Dense(2, activation='relu') # Dense는 keras에서 지원해주는 hidden layer[Full connected layer]\n",
        "# 현재, layer의 weight 파라미터의 갯수를 알 수 있는가?\n",
        "# 그러나 bias의 갯수는 알 수 있다\n",
        "\n",
        "x = tf.constant([[1., 2., 3.]])\n",
        "\n",
        "with tf.GradientTape() as tape:\n",
        "  # Forward pass\n",
        "  y = layer(x)\n",
        "  # layer.trainable = False\n",
        "  # 이제 layer의 weight 파라미터 갯수를 알 수 있다.\n",
        "  # print(\"y=\", y)\n",
        "  loss = tf.reduce_mean(y**2)"
      ],
      "metadata": {
        "id": "oA3huVDtlWQ8"
      },
      "execution_count": null,
      "outputs": []
    },
    {
      "cell_type": "code",
      "source": [
        "print(layer.trainable_variables)"
      ],
      "metadata": {
        "colab": {
          "base_uri": "https://localhost:8080/"
        },
        "id": "mNTUrYhyldPB",
        "outputId": "f3e1431a-c622-4182-d07c-9525a3556329"
      },
      "execution_count": null,
      "outputs": [
        {
          "output_type": "stream",
          "name": "stdout",
          "text": [
            "[<tf.Variable 'dense/kernel:0' shape=(3, 2) dtype=float32, numpy=\n",
            "array([[-0.34844542, -0.826694  ],\n",
            "       [ 0.7003    , -0.48246288],\n",
            "       [-0.86702716, -0.90831   ]], dtype=float32)>, <tf.Variable 'dense/bias:0' shape=(2,) dtype=float32, numpy=array([0., 0.], dtype=float32)>]\n"
          ]
        }
      ]
    },
    {
      "cell_type": "code",
      "source": [
        "# layer.trainable = False # Gradient Tape context 외부에서 설정을 해도 적용이 된다"
      ],
      "metadata": {
        "id": "Q3JhjsjOlfXA"
      },
      "execution_count": null,
      "outputs": []
    },
    {
      "cell_type": "code",
      "source": [
        "# Calculate gradients with respect to every trainable variable\n",
        "grad = tape.gradient(loss, layer.trainable_variables)\n",
        "print(grad)"
      ],
      "metadata": {
        "colab": {
          "base_uri": "https://localhost:8080/"
        },
        "id": "4zgGiYEglftm",
        "outputId": "f2df24f6-f32f-4365-9d4b-8a550874f156"
      },
      "execution_count": null,
      "outputs": [
        {
          "output_type": "stream",
          "name": "stdout",
          "text": [
            "[<tf.Tensor: shape=(3, 2), dtype=float32, numpy=\n",
            "array([[0., 0.],\n",
            "       [0., 0.],\n",
            "       [0., 0.]], dtype=float32)>, <tf.Tensor: shape=(2,), dtype=float32, numpy=array([0., 0.], dtype=float32)>]\n"
          ]
        }
      ]
    },
    {
      "cell_type": "markdown",
      "source": [
        "zip() 기본 문법"
      ],
      "metadata": {
        "id": "fG_4cQ5KliAq"
      }
    },
    {
      "cell_type": "markdown",
      "source": [
        "zip() 함수는 여러 개의 순회 가능한(iterable) 객체를 인자로 받고, 각 객체가 담고 있는 원소를 tuple의 형태로 차례로 접근할 수 있는 반복자(iterator)를 반환"
      ],
      "metadata": {
        "id": "-NyIUGQDlijp"
      }
    },
    {
      "cell_type": "code",
      "source": [
        "numbers = [1, 2, 3]\n",
        "letters = [\"A\", \"B\", \"C\"]\n",
        "for pair in zip(numbers, letters):\n",
        "  print(pair)"
      ],
      "metadata": {
        "colab": {
          "base_uri": "https://localhost:8080/"
        },
        "id": "QeFrSdSpllHz",
        "outputId": "efdb93c2-6aee-4e82-d30a-e176d3ccada3"
      },
      "execution_count": null,
      "outputs": [
        {
          "output_type": "stream",
          "name": "stdout",
          "text": [
            "(1, 'A')\n",
            "(2, 'B')\n",
            "(3, 'C')\n"
          ]
        }
      ]
    },
    {
      "cell_type": "code",
      "source": [
        "for var, g in zip(layer.trainable_variables, grad):\n",
        "  print(f'{var.name}, shape: {g.shape}')"
      ],
      "metadata": {
        "colab": {
          "base_uri": "https://localhost:8080/"
        },
        "id": "n2kw9m6Glmkb",
        "outputId": "7ec90efa-2516-4868-c4fe-163034062c58"
      },
      "execution_count": null,
      "outputs": [
        {
          "output_type": "stream",
          "name": "stdout",
          "text": [
            "dense/kernel:0, shape: (3, 2)\n",
            "dense/bias:0, shape: (2,)\n"
          ]
        }
      ]
    },
    {
      "cell_type": "markdown",
      "source": [
        "<a id=\"watches\"></a>\n",
        "\n",
        "## Controlling what the tape watches"
      ],
      "metadata": {
        "id": "U6-sDtUdloWL"
      }
    },
    {
      "cell_type": "markdown",
      "source": [
        "The default behavior is to record all operations after accessing a trainable `tf.Variable`. The reasons for this are:\n",
        "\n",
        "* The tape needs to know which operations to record in the forward pass to calculate the gradients in the backwards pass.\n",
        "* The tape holds references to intermediate outputs, so you don't want to record unnecessary operations.\n",
        "* The most common use case involves calculating the gradient of a loss with respect to all a model's trainable variables.\n",
        "\n",
        "For example, the following fails to calculate a gradient because the `tf.Tensor` is not \"watched\" by default, and the `tf.Variable` is not trainable:"
      ],
      "metadata": {
        "id": "COw4_anMlqq5"
      }
    },
    {
      "cell_type": "markdown",
      "source": [
        "기본 동작은 **trainable** tf.Variable에 액세스한 후 모든 Ops을 기록하는 것입니다. 그 이유는 다음과 같습니다.\n",
        "* 테이프는 역방향 패스의 기울기를 계산하기 위해 순방향 패스에 기록할 오퍼레이션들을 알아야 합니다.\n",
        "* 테이프에는 중간 출력에 대한 참조가 있으므로 불필요한 오퍼레이션들을 기록하고 싶지 않습니다.\n",
        "* 가장 일반적인 사용 사례는 모델의 모든 학습 가능한 변수에 대한 loss의 기울기를 계산하는 것입니다.\n",
        "\n",
        "예를 들어, 다음 코드은 `tf.Tensor`가 기본적으로 \"감시\"가 되지 않고 `tf.Variable`의 `trainable` 속성이 `False`이기 때문에 그라디언트를 계산하는 데 실패합니다."
      ],
      "metadata": {
        "id": "ZywkLnjdlta4"
      }
    },
    {
      "cell_type": "code",
      "source": [
        "# A trainable variable\n",
        "x0 = tf.Variable(3.0, name='x0')\n",
        "\n",
        "# Not trainable\n",
        "# tf.Variable의 trainable 속성이 False이기 때문에 그라디언트를 계산하는 데 실패합니다.\n",
        "x1 = tf.Variable(3.0, name='x1', trainable=False)\n",
        "\n",
        "# Not a Variable: A variable + tensor returns a tensor.\n",
        "# x2 = tf.Variable(2.0, name='x2') + 1.0\n",
        "x2 = tf.Variable(2.0, name='x2')\n",
        "# print(\"x2=\", x2)\n",
        "\n",
        "# Not a variable\n",
        "x3 = tf.constant(3.0, name='x3')"
      ],
      "metadata": {
        "id": "RjG4z2QmlqKq"
      },
      "execution_count": null,
      "outputs": []
    },
    {
      "cell_type": "code",
      "source": [
        "with tf.GradientTape() as tape:\n",
        "  # tape.watch(x2) # GradientTape의 watched_variables 속성에 반영되지 않는다\n",
        "  y = (x0**2) + (x1**2) + (x2**2)\n",
        "\n",
        "grad = tape.gradient(y, [x0, x1, x2, x3])\n",
        "\n",
        "for g in grad:\n",
        "  print(\"g=\", g)"
      ],
      "metadata": {
        "colab": {
          "base_uri": "https://localhost:8080/"
        },
        "id": "uV4eoZqVlygN",
        "outputId": "d27587ea-01fb-4570-d65d-e5ba387874fc"
      },
      "execution_count": null,
      "outputs": [
        {
          "output_type": "stream",
          "name": "stdout",
          "text": [
            "g= tf.Tensor(6.0, shape=(), dtype=float32)\n",
            "g= None\n",
            "g= tf.Tensor(4.0, shape=(), dtype=float32)\n",
            "g= None\n"
          ]
        }
      ]
    },
    {
      "cell_type": "markdown",
      "source": [
        "You can list the variables being watched by the tape using the `GradientTape.watched_variables` method:"
      ],
      "metadata": {
        "id": "nJzTe7Ncl0KY"
      }
    },
    {
      "cell_type": "markdown",
      "source": [
        "GradientTape.watched_variables 메서드를 사용하여 테이프에서 감시 중인 변수를 나열할 수 있습니다."
      ],
      "metadata": {
        "id": "LBf0rwi4l1ti"
      }
    },
    {
      "cell_type": "code",
      "source": [
        "for var in tape.watched_variables():\n",
        "  print(var.name)"
      ],
      "metadata": {
        "colab": {
          "base_uri": "https://localhost:8080/"
        },
        "id": "Y_ERJVwTl29P",
        "outputId": "e22ef847-f5fd-4356-c6aa-007a14388707"
      },
      "execution_count": null,
      "outputs": [
        {
          "output_type": "stream",
          "name": "stdout",
          "text": [
            "x0:0\n",
            "x2:0\n"
          ]
        }
      ]
    },
    {
      "cell_type": "code",
      "source": [
        "[var.name for var in tape.watched_variables()]"
      ],
      "metadata": {
        "colab": {
          "base_uri": "https://localhost:8080/"
        },
        "id": "_Sk87ELnl4gd",
        "outputId": "da5404bc-b778-48b6-abec-d8b852c90ae2"
      },
      "execution_count": null,
      "outputs": [
        {
          "output_type": "execute_result",
          "data": {
            "text/plain": [
              "['x0:0', 'x2:0']"
            ]
          },
          "metadata": {},
          "execution_count": 23
        }
      ]
    },
    {
      "cell_type": "markdown",
      "source": [
        "`tf.GradientTape` provides hooks that give the user control over what is or is not watched.\n",
        "\n",
        "To record gradients with respect to a `tf.Tensor`, you need to call `GradientTape.watch(x)`:"
      ],
      "metadata": {
        "id": "qbrjQD64l6Hb"
      }
    },
    {
      "cell_type": "markdown",
      "source": [
        "tf.GradientTape는 사용자가 감시 여부를 제어할 수 있는 hook를 제공합니다.</br>\n",
        "tf.Tensor에 대한 그라디언트를 기록하려면 GradientTape.watch(x)를 호출해야 합니다."
      ],
      "metadata": {
        "id": "ye7JwLMkl8Li"
      }
    },
    {
      "cell_type": "code",
      "source": [
        "x = tf.constant(3.0)\n",
        "with tf.GradientTape() as tape:\n",
        "  tape.watch(x)\n",
        "  y = x**2\n",
        "\n",
        "# dy = 2x * dx\n",
        "dy_dx = tape.gradient(y, x)\n",
        "print(dy_dx.numpy())"
      ],
      "metadata": {
        "colab": {
          "base_uri": "https://localhost:8080/"
        },
        "id": "22MoKZ65l9tq",
        "outputId": "2e9090e4-6167-4db8-811e-61280e16fc97"
      },
      "execution_count": null,
      "outputs": [
        {
          "output_type": "stream",
          "name": "stdout",
          "text": [
            "6.0\n"
          ]
        }
      ]
    },
    {
      "cell_type": "code",
      "source": [
        "x = tf.constant(3.0)\n",
        "with tf.GradientTape() as tape:\n",
        "  y = x**2\n",
        "\n",
        "# dy = 2x * dx\n",
        "dy_dx = tape.gradient(y, x)\n",
        "print(dy_dx)"
      ],
      "metadata": {
        "colab": {
          "base_uri": "https://localhost:8080/"
        },
        "id": "1M5NdQvOl_RR",
        "outputId": "e1e3cb80-239b-4fb8-d531-b3da1645be85"
      },
      "execution_count": null,
      "outputs": [
        {
          "output_type": "stream",
          "name": "stdout",
          "text": [
            "None\n"
          ]
        }
      ]
    },
    {
      "cell_type": "markdown",
      "source": [
        "Conversely, to disable the default behavior of watching all `tf.Variables`, set `watch_accessed_variables=False` when creating the gradient tape. This calculation uses two variables, but only connects the gradient for one of the variables:"
      ],
      "metadata": {
        "id": "9eLBDvrUmA01"
      }
    },
    {
      "cell_type": "markdown",
      "source": [
        "<font color=\"red\">반대로 감시하고 있는 모든 tf.Variables 디폴트 동작을 비활성화하려면</font> 그래디언트 테이프를 생성할 때 **watch_accessed_variables=False**로 설정하십시오. 이 계산은 두 개의 변수를 사용하지만 변수 중 하나에 대한 gradient만 연결합니다."
      ],
      "metadata": {
        "id": "syaY-4YNmCRa"
      }
    },
    {
      "cell_type": "code",
      "source": [
        "x0 = tf.Variable(0.0)\n",
        "x1 = tf.Variable(10.0)\n",
        "\n",
        "with tf.GradientTape(watch_accessed_variables=False) as tape:\n",
        "  tape.watch(x1)\n",
        "  y0 = tf.math.sin(x0)\n",
        "  y1 = tf.nn.softplus(x1)\n",
        "  y = y0 + y1\n",
        "  ys = tf.reduce_sum(y)"
      ],
      "metadata": {
        "id": "5urXI7vNmDZZ"
      },
      "execution_count": null,
      "outputs": []
    },
    {
      "cell_type": "markdown",
      "source": [
        "Since `GradientTape.watch` was not called on `x0`, no gradient is computed with respect to it:"
      ],
      "metadata": {
        "id": "VvFYsX8EmFgn"
      }
    },
    {
      "cell_type": "markdown",
      "source": [
        "'x0'에 대해 'GradientTape.watch'가 호출되지 않았으므로 이와 관련된 그라디언트가 계산되지 않습니다."
      ],
      "metadata": {
        "id": "V2MeUdLUmHNS"
      }
    },
    {
      "cell_type": "code",
      "source": [
        "# dys/dx1 = exp(x1) / (1 + exp(x1)) = sigmoid(x1)\n",
        "grad = tape.gradient(ys, {'x0': x0, 'x1': x1})\n",
        "\n",
        "print('dy/dx0:', grad['x0'])\n",
        "print('dy/dx1:', grad['x1'])\n",
        "# print('dy/dx1:', grad['x1'].numpy())"
      ],
      "metadata": {
        "colab": {
          "base_uri": "https://localhost:8080/"
        },
        "id": "soZxd_OomIhY",
        "outputId": "9b1aa502-ffd2-4393-d527-fbffbd4e125f"
      },
      "execution_count": null,
      "outputs": [
        {
          "output_type": "stream",
          "name": "stdout",
          "text": [
            "dy/dx0: None\n",
            "dy/dx1: tf.Tensor(0.9999546, shape=(), dtype=float32)\n"
          ]
        }
      ]
    },
    {
      "cell_type": "markdown",
      "source": [
        "## Intermediate results\n",
        "\n",
        "You can also request gradients of the output with respect to intermediate values computed inside the `tf.GradientTape` context."
      ],
      "metadata": {
        "id": "8iDpwAy7nA_B"
      }
    },
    {
      "cell_type": "markdown",
      "source": [
        "또한 tf.GradientTape 컨텍스트 내에서 계산된 중간 값에 대한 출력 기울기를 요청할 수 있습니다."
      ],
      "metadata": {
        "id": "n1QWr-ysnCdy"
      }
    },
    {
      "cell_type": "code",
      "source": [
        "x = tf.constant(3.0)\n",
        "\n",
        "with tf.GradientTape() as tape:\n",
        "  tape.watch(x)\n",
        "  y = x * x  # y is intermediate value\n",
        "  z = y * y #y**2 -> 2y\n",
        "\n",
        "# Use the tape to compute the gradient of z with respect to the\n",
        "# intermediate value y.\n",
        "# dz_dy = 2 * y and y = x ** 2 = 9\n",
        "print(tape.gradient(z, y).numpy())"
      ],
      "metadata": {
        "colab": {
          "base_uri": "https://localhost:8080/"
        },
        "id": "zx00Jo0RnDkd",
        "outputId": "7fe85200-1c0a-444c-83ff-de4a2ce4fb61"
      },
      "execution_count": null,
      "outputs": [
        {
          "output_type": "stream",
          "name": "stdout",
          "text": [
            "18.0\n"
          ]
        }
      ]
    },
    {
      "cell_type": "markdown",
      "source": [
        "By default, the resources held by a `GradientTape` are released as soon as the `GradientTape.gradient` method is called. To compute multiple gradients over the same computation, create a gradient tape with `persistent=True`. This allows multiple calls to the `gradient` method as resources are released when the tape object is garbage collected. For example:"
      ],
      "metadata": {
        "id": "MGKLxaI0nFC3"
      }
    },
    {
      "cell_type": "markdown",
      "source": [
        "기본적으로 GradientTape.gradient 메서드가 호출되는 즉시 GradientTape가 보유한 리소스가 해제됩니다. 동일한 계산에 대해 복수의 그라디언트를 계산하려면 Persistent=True인 그라디언트 테이프를 만듭니다. 이렇게 하면 테이프 개체가 garbage collection이 수행될 때 테이프 개체 리소스가 해제되므로 tape.gradient 메서드를 여러 번 호출할 수 있습니다. 예를 들어:"
      ],
      "metadata": {
        "id": "GCXqfNnvnGcQ"
      }
    },
    {
      "cell_type": "code",
      "source": [
        "x = tf.constant([1, 3.0])\n",
        "with tf.GradientTape(persistent=True) as tape:\n",
        "  tape.watch(x)\n",
        "  y = x * x\n",
        "  z = y * y\n",
        "\n",
        "print(tape.gradient(z, x).numpy())  # [4.0, 108.0] (4 * x**3 at x = [1.0, 3.0])\n",
        "print(tape.gradient(y, x).numpy())  # [2.0, 6.0] (2 * x at x = [1.0, 3.0])"
      ],
      "metadata": {
        "colab": {
          "base_uri": "https://localhost:8080/"
        },
        "id": "gWrXyVAUnHmX",
        "outputId": "7bb7b293-b848-4893-93e4-91629034f717"
      },
      "execution_count": null,
      "outputs": [
        {
          "output_type": "stream",
          "name": "stdout",
          "text": [
            "[  4. 108.]\n",
            "[2. 6.]\n"
          ]
        }
      ]
    },
    {
      "cell_type": "code",
      "source": [
        "del tape   # Drop the reference to the tape"
      ],
      "metadata": {
        "id": "5QamvTfvnKIR"
      },
      "execution_count": null,
      "outputs": []
    },
    {
      "cell_type": "markdown",
      "source": [
        "## Notes on performance\n",
        "\n",
        "* There is a tiny overhead associated with doing operations inside a gradient tape context. For most eager execution this will not be a noticeable cost, but you should still use tape context around the areas only where it is required.\n",
        "\n",
        "* Gradient tapes use memory to store intermediate results, including inputs and outputs, for use during the backwards pass.\n",
        "\n",
        "  For efficiency, some ops (like `ReLU`) don't need to keep their intermediate results and they are pruned during the forward pass. However, if you use `persistent=True` on your tape, *nothing is discarded* and your peak memory usage will be higher."
      ],
      "metadata": {
        "id": "ApqAamZbnLye"
      }
    },
    {
      "cell_type": "markdown",
      "source": [
        "* 그래디언트 테이프 컨텍스트 내에서 Ops을 수행하는 것과 관련된 약간의 오버헤드가 있습니다. 대부분의 eager 실행 모드의 경우, 이는 눈에 띄는 비용은 아니지만 필요한 영역에서만 테이프 컨텍스트를 사용해야 합니다.\n",
        "\n",
        "* 그라디언트 테이프는 backward pass 동안 사용할 입력 및 출력을 포함한 중간 결과를 저장하기 위해 메모리를 사용합니다.</br>\n",
        "효율성을 위해 일부 Ops(예: ReLU)은 중간 결과를 유지할 필요가 없으며 forward pass 중에 정리됩니다. 그러나 테이프에서 Persistent=True를 사용하면 어떤 것도 버리지 않기 때문에 메모리 최대 사용량이 더 높아집니다."
      ],
      "metadata": {
        "id": "Uaum1xBRnNiU"
      }
    },
    {
      "cell_type": "markdown",
      "source": [
        "## Gradients of non-scalar targets"
      ],
      "metadata": {
        "id": "mLTeO_7BnPAK"
      }
    },
    {
      "cell_type": "markdown",
      "source": [
        "A gradient is fundamentally an operation on a scalar."
      ],
      "metadata": {
        "id": "-JYjmuy2nQbI"
      }
    },
    {
      "cell_type": "markdown",
      "source": [
        "gradient는 기본적으로 스칼라에 대한 Ops입니다."
      ],
      "metadata": {
        "id": "_-yPhuLnnR1S"
      }
    },
    {
      "cell_type": "markdown",
      "source": [
        "y = 1/x</br>\n",
        "y = x<sup>-1</sup></br>\n",
        "y = -1x<sup>-2</sup></br>\n",
        "y = -1/x<sup>2</sup></br>"
      ],
      "metadata": {
        "id": "YPFj9sqCnTP8"
      }
    },
    {
      "cell_type": "markdown",
      "source": [
        "#### y1 = 1 / x\n",
        "* y1 = x<sup>-1</sup>\n",
        "* y1' = -1x<sup>-2</sup>"
      ],
      "metadata": {
        "id": "YHCnflYZnUsm"
      }
    },
    {
      "cell_type": "code",
      "source": [
        "x = tf.Variable(2.0)\n",
        "with tf.GradientTape(persistent=True) as tape:\n",
        "  y0 = x**2\n",
        "  y1 = 1 / x\n",
        "\n",
        "print(tape.gradient(y0, x).numpy())\n",
        "print(tape.gradient(y1, x).numpy())"
      ],
      "metadata": {
        "colab": {
          "base_uri": "https://localhost:8080/"
        },
        "id": "jK_CHkQNnWWC",
        "outputId": "af2d16fc-20fb-4e16-e9fb-9fc9debe1507"
      },
      "execution_count": null,
      "outputs": [
        {
          "output_type": "stream",
          "name": "stdout",
          "text": [
            "4.0\n",
            "-0.25\n"
          ]
        }
      ]
    },
    {
      "cell_type": "markdown",
      "source": [
        "Thus, if you ask for the gradient of multiple targets, the result for each source is:\n",
        "\n",
        "* The gradient of the sum of the targets, or equivalently\n",
        "* The sum of the gradients of each target."
      ],
      "metadata": {
        "id": "TuDl-XZcnX7z"
      }
    },
    {
      "cell_type": "markdown",
      "source": [
        "따라서 여러 타겟의 gradient를 요청하면 각 소스에 대한 결과는 다음과 같습니다.\n",
        "\n",
        "* target 합계의 gradient, 또는 동등하게\n",
        "* 각 target의 gradient의 합계입니다."
      ],
      "metadata": {
        "id": "u9LWKtY-nZdc"
      }
    },
    {
      "cell_type": "markdown",
      "source": [
        " 아래 코드에서 non-scalar targets 은 </br>\n",
        " {'y0': y0, 'y1': y1}를 의미한다."
      ],
      "metadata": {
        "id": "i6DT2g4_na6g"
      }
    },
    {
      "cell_type": "code",
      "source": [
        "x = tf.Variable(2.0)\n",
        "with tf.GradientTape() as tape:\n",
        "  y0 = x**2\n",
        "  y1 = 1 / x\n",
        "\n",
        "print(tape.gradient({'y0': y0, 'y1': y1}, x).numpy())"
      ],
      "metadata": {
        "colab": {
          "base_uri": "https://localhost:8080/"
        },
        "id": "FKnjWCdNnb7D",
        "outputId": "9f7b87ac-aa9a-4fb4-a2cc-b8913481619c"
      },
      "execution_count": null,
      "outputs": [
        {
          "output_type": "stream",
          "name": "stdout",
          "text": [
            "3.75\n"
          ]
        }
      ]
    },
    {
      "cell_type": "markdown",
      "source": [
        "Similarly, if the target(s) are not scalar the gradient of the sum is calculated:"
      ],
      "metadata": {
        "id": "ScP3tTwlndZ_"
      }
    },
    {
      "cell_type": "markdown",
      "source": [
        "마찬가지로, 타겟이 스칼라가 아닌 경우 합계의 기울기가 계산됩니다."
      ],
      "metadata": {
        "id": "BwLfQ8jYnesZ"
      }
    },
    {
      "cell_type": "code",
      "source": [
        "x = tf.Variable(2.)\n",
        "\n",
        "with tf.GradientTape() as tape:\n",
        "  y = x * [3., 4.] # [3., 4.]x , y' = [3., 4.]\n",
        "\n",
        "print(tape.gradient(y, x).numpy())"
      ],
      "metadata": {
        "colab": {
          "base_uri": "https://localhost:8080/"
        },
        "id": "4aTDunS4nf72",
        "outputId": "321c821c-42d4-45b5-c6fd-b9bbb6fddfff"
      },
      "execution_count": null,
      "outputs": [
        {
          "output_type": "stream",
          "name": "stdout",
          "text": [
            "7.0\n"
          ]
        }
      ]
    },
    {
      "cell_type": "markdown",
      "source": [
        "This makes it simple to take the gradient of the sum of a collection of losses, or the gradient of the sum of an element-wise loss calculation.\n",
        "\n",
        "If you need a separate gradient for each item, refer to [Jacobians](advanced_autodiff.ipynb#jacobians)."
      ],
      "metadata": {
        "id": "Ef3E1M71nhWT"
      }
    },
    {
      "cell_type": "markdown",
      "source": [
        "이것은 손실 모음 합계의 기울기 또는 요소별 손실 계산 합계 기울기를 취하는 것을 간단하게 만듭니다.\n",
        "\n",
        "각 항목에 대해 별도의 그래디언트가 필요한 경우 Jacobians를 참조하십시오."
      ],
      "metadata": {
        "id": "YWGxOO64ni-2"
      }
    },
    {
      "cell_type": "markdown",
      "source": [
        "In some cases you can skip the Jacobian. For an element-wise calculation, the gradient of the sum gives the derivative of each element with respect to its input-element, since each element is independent:"
      ],
      "metadata": {
        "id": "qeI7qNOiny42"
      }
    },
    {
      "cell_type": "markdown",
      "source": [
        "경우에 따라 야코비 행렬을 건너뛸 수 있습니다. element-wise 계산의 경우에 합계의 기울기는 각 element가 독립적이므로 입력 요소에 대한 각 element의 도함수를 제공합니다."
      ],
      "metadata": {
        "id": "GEpvrGSln0X7"
      }
    },
    {
      "cell_type": "code",
      "source": [
        "x = tf.linspace(-10.0, 10.0, 200+1)\n",
        "print(x)"
      ],
      "metadata": {
        "colab": {
          "base_uri": "https://localhost:8080/"
        },
        "id": "lm24FEz5n11u",
        "outputId": "41844ddb-cb89-4066-f671-1831285cdb9a"
      },
      "execution_count": null,
      "outputs": [
        {
          "output_type": "stream",
          "name": "stdout",
          "text": [
            "tf.Tensor(\n",
            "[-10.          -9.9         -9.8         -9.7         -9.6\n",
            "  -9.5         -9.4         -9.3         -9.2         -9.1\n",
            "  -9.          -8.9         -8.8         -8.7         -8.6\n",
            "  -8.5         -8.4         -8.3         -8.2         -8.1\n",
            "  -8.          -7.8999996   -7.8         -7.7         -7.6\n",
            "  -7.5         -7.3999996   -7.3         -7.2         -7.1\n",
            "  -7.          -6.8999996   -6.8         -6.7         -6.6\n",
            "  -6.5         -6.3999996   -6.3         -6.2         -6.1\n",
            "  -6.          -5.9         -5.7999997   -5.7         -5.6\n",
            "  -5.5         -5.4         -5.2999997   -5.2         -5.1\n",
            "  -5.          -4.9         -4.7999997   -4.7         -4.6\n",
            "  -4.5         -4.4         -4.2999997   -4.2         -4.1\n",
            "  -4.          -3.9         -3.7999997   -3.6999998   -3.6\n",
            "  -3.5         -3.4         -3.2999997   -3.1999998   -3.1\n",
            "  -3.          -2.9         -2.7999997   -2.6999998   -2.6\n",
            "  -2.5         -2.4         -2.2999997   -2.1999998   -2.1\n",
            "  -2.          -1.8999996   -1.8000002   -1.6999998   -1.5999994\n",
            "  -1.5         -1.3999996   -1.3000002   -1.1999998   -1.0999994\n",
            "  -1.          -0.8999996   -0.8000002   -0.6999998   -0.5999994\n",
            "  -0.5         -0.39999962  -0.3000002   -0.19999981  -0.09999943\n",
            "   0.           0.10000038   0.19999981   0.3000002    0.40000057\n",
            "   0.5          0.6000004    0.6999998    0.8000002    0.9000006\n",
            "   1.           1.1000004    1.1999998    1.3000002    1.4000006\n",
            "   1.5          1.6000004    1.6999998    1.8000002    1.9000006\n",
            "   2.           2.1000004    2.1999998    2.3000002    2.4000006\n",
            "   2.5          2.6000004    2.6999998    2.8000002    2.9000006\n",
            "   3.           3.1000004    3.1999998    3.3000002    3.4000006\n",
            "   3.5          3.6000004    3.6999998    3.8000002    3.9000006\n",
            "   4.           4.1000004    4.2          4.3          4.4000006\n",
            "   4.5          4.6000004    4.7          4.8          4.9000006\n",
            "   5.           5.1000004    5.2          5.3          5.4000006\n",
            "   5.5          5.6000004    5.7          5.8          5.9000006\n",
            "   6.           6.1000004    6.200001     6.300001     6.3999996\n",
            "   6.5          6.6000004    6.700001     6.800001     6.8999996\n",
            "   7.           7.1000004    7.200001     7.300001     7.3999996\n",
            "   7.5          7.6000004    7.700001     7.800001     7.8999996\n",
            "   8.           8.1          8.200001     8.300001     8.4\n",
            "   8.5          8.6          8.700001     8.800001     8.9\n",
            "   9.           9.1          9.200001     9.300001     9.4\n",
            "   9.5          9.6          9.700001     9.800001     9.9\n",
            "  10.        ], shape=(201,), dtype=float32)\n"
          ]
        }
      ]
    },
    {
      "cell_type": "code",
      "source": [
        "with tf.GradientTape() as tape:\n",
        "  tape.watch(x)\n",
        "  y = tf.nn.sigmoid(x)\n",
        "\n",
        "dy_dx = tape.gradient(y, x)\n",
        "print(dy_dx)"
      ],
      "metadata": {
        "colab": {
          "base_uri": "https://localhost:8080/"
        },
        "id": "bVj-WW7AoQHg",
        "outputId": "9da2baca-2f93-4b32-e835-d21c4f0a7113"
      },
      "execution_count": null,
      "outputs": [
        {
          "output_type": "stream",
          "name": "stdout",
          "text": [
            "tf.Tensor(\n",
            "[4.53958055e-05 5.01696668e-05 5.54454418e-05 6.12759977e-05\n",
            " 6.77195421e-05 7.48406237e-05 8.27104086e-05 9.14074990e-05\n",
            " 1.01019003e-04 1.11640831e-04 1.23379359e-04 1.36351780e-04\n",
            " 1.50687614e-04 1.66530372e-04 1.84037970e-04 2.03385585e-04\n",
            " 2.24766336e-04 2.48393306e-04 2.74502818e-04 3.03354871e-04\n",
            " 3.35237681e-04 3.70468944e-04 4.09399363e-04 4.52417444e-04\n",
            " 4.99951013e-04 5.52473008e-04 6.10506395e-04 6.74626906e-04\n",
            " 7.45472440e-04 8.23745097e-04 9.10221192e-04 1.00575748e-03\n",
            " 1.11129810e-03 1.22788746e-03 1.35667447e-03 1.49892876e-03\n",
            " 1.65605021e-03 1.82957889e-03 2.02121888e-03 2.23284075e-03\n",
            " 2.46650935e-03 2.72449688e-03 3.00930650e-03 3.32368701e-03\n",
            " 3.67066660e-03 4.05357219e-03 4.47605597e-03 4.94213402e-03\n",
            " 5.45620080e-03 6.02308102e-03 6.64805667e-03 7.33690662e-03\n",
            " 8.09594616e-03 8.93206056e-03 9.85276420e-03 1.08662304e-02\n",
            " 1.19813345e-02 1.32077131e-02 1.45557625e-02 1.60367284e-02\n",
            " 1.76627059e-02 1.94466673e-02 2.14024857e-02 2.35449132e-02\n",
            " 2.58895941e-02 2.84530222e-02 3.12524661e-02 3.43058892e-02\n",
            " 3.76317762e-02 4.12490219e-02 4.51766625e-02 4.94335666e-02\n",
            " 5.40381297e-02 5.90077192e-02 6.43583089e-02 7.01037124e-02\n",
            " 7.62549937e-02 8.28195885e-02 8.98003429e-02 9.71947163e-02\n",
            " 1.04993582e-01 1.13180295e-01 1.21729329e-01 1.30605757e-01\n",
            " 1.39763847e-01 1.49146453e-01 1.58684939e-01 1.68298349e-01\n",
            " 1.77894458e-01 1.87369928e-01 1.96611941e-01 2.05500335e-01\n",
            " 2.13909671e-01 2.21712887e-01 2.28784278e-01 2.35003710e-01\n",
            " 2.40260765e-01 2.44458303e-01 2.47516572e-01 2.49376029e-01\n",
            " 2.50000000e-01 2.49376029e-01 2.47516587e-01 2.44458303e-01\n",
            " 2.40260705e-01 2.35003710e-01 2.28784218e-01 2.21712887e-01\n",
            " 2.13909671e-01 2.05500260e-01 1.96611926e-01 1.87369838e-01\n",
            " 1.77894443e-01 1.68298304e-01 1.58684835e-01 1.49146438e-01\n",
            " 1.39763758e-01 1.30605742e-01 1.21729344e-01 1.13180213e-01\n",
            " 1.04993574e-01 9.71946642e-02 8.98003504e-02 8.28195363e-02\n",
            " 7.62549862e-02 7.01037124e-02 6.43582866e-02 5.90077341e-02\n",
            " 5.40381111e-02 4.94335368e-02 4.51766551e-02 4.12489809e-02\n",
            " 3.76317799e-02 3.43058519e-02 3.12524699e-02 2.84530446e-02\n",
            " 2.58895643e-02 2.35448945e-02 2.14024913e-02 1.94466617e-02\n",
            " 1.76627338e-02 1.60366967e-02 1.45557523e-02 1.32076964e-02\n",
            " 1.19813140e-02 1.08662117e-02 9.85273253e-03 8.93205591e-03\n",
            " 8.09593033e-03 7.33687775e-03 6.64803293e-03 6.02310384e-03\n",
            " 5.45621011e-03 4.94212657e-03 4.47605969e-03 4.05359641e-03\n",
            " 3.67064914e-03 3.32369935e-03 3.00932792e-03 2.72451527e-03\n",
            " 2.46652518e-03 2.23284843e-03 2.02120445e-03 1.82960229e-03\n",
            " 1.65604567e-03 1.49894902e-03 1.35666353e-03 1.22789398e-03\n",
            " 1.11128297e-03 1.00576843e-03 9.10226954e-04 8.23771697e-04\n",
            " 7.45455211e-04 6.74626499e-04 6.10514835e-04 5.52467944e-04\n",
            " 4.99952002e-04 4.52432781e-04 4.09375789e-04 3.70484311e-04\n",
            " 3.35223274e-04 3.03355162e-04 2.74523190e-04 2.48370430e-04\n",
            " 2.24778167e-04 2.03389267e-04 1.84025266e-04 1.66507642e-04\n",
            " 1.50657841e-04 1.36356830e-04 1.23366393e-04 1.11627036e-04\n",
            " 1.01019665e-04 9.14251650e-05 8.27244003e-05 7.48578314e-05\n",
            " 6.77062926e-05 6.12698204e-05 5.54292455e-05 5.01845934e-05\n",
            " 4.54166766e-05], shape=(201,), dtype=float32)\n"
          ]
        }
      ]
    },
    {
      "cell_type": "code",
      "source": [
        "sdev = tf.nn.sigmoid(x)*(1-tf.nn.sigmoid(x))  # A(1-A)\n",
        "print(sdev)"
      ],
      "metadata": {
        "colab": {
          "base_uri": "https://localhost:8080/"
        },
        "id": "zg7Qx5VaoCJr",
        "outputId": "72694fd7-0006-4859-9a8a-de4566bd0243"
      },
      "execution_count": null,
      "outputs": [
        {
          "output_type": "stream",
          "name": "stdout",
          "text": [
            "tf.Tensor(\n",
            "[4.53958055e-05 5.01696668e-05 5.54454418e-05 6.12759977e-05\n",
            " 6.77195421e-05 7.48406237e-05 8.27104086e-05 9.14074990e-05\n",
            " 1.01019003e-04 1.11640831e-04 1.23379359e-04 1.36351780e-04\n",
            " 1.50687614e-04 1.66530372e-04 1.84037970e-04 2.03385585e-04\n",
            " 2.24766336e-04 2.48393306e-04 2.74502818e-04 3.03354871e-04\n",
            " 3.35237681e-04 3.70468944e-04 4.09399363e-04 4.52417444e-04\n",
            " 4.99951013e-04 5.52473008e-04 6.10506395e-04 6.74626906e-04\n",
            " 7.45472440e-04 8.23745097e-04 9.10221192e-04 1.00575748e-03\n",
            " 1.11129810e-03 1.22788746e-03 1.35667447e-03 1.49892876e-03\n",
            " 1.65605021e-03 1.82957889e-03 2.02121888e-03 2.23284075e-03\n",
            " 2.46650935e-03 2.72449688e-03 3.00930650e-03 3.32368701e-03\n",
            " 3.67066660e-03 4.05357219e-03 4.47605597e-03 4.94213402e-03\n",
            " 5.45620080e-03 6.02308102e-03 6.64805667e-03 7.33690662e-03\n",
            " 8.09594616e-03 8.93206056e-03 9.85276420e-03 1.08662304e-02\n",
            " 1.19813345e-02 1.32077131e-02 1.45557625e-02 1.60367284e-02\n",
            " 1.76627059e-02 1.94466673e-02 2.14024857e-02 2.35449132e-02\n",
            " 2.58895941e-02 2.84530222e-02 3.12524661e-02 3.43058892e-02\n",
            " 3.76317762e-02 4.12490219e-02 4.51766625e-02 4.94335666e-02\n",
            " 5.40381297e-02 5.90077192e-02 6.43583089e-02 7.01037124e-02\n",
            " 7.62549937e-02 8.28195885e-02 8.98003429e-02 9.71947163e-02\n",
            " 1.04993582e-01 1.13180295e-01 1.21729329e-01 1.30605757e-01\n",
            " 1.39763847e-01 1.49146453e-01 1.58684939e-01 1.68298349e-01\n",
            " 1.77894458e-01 1.87369928e-01 1.96611941e-01 2.05500335e-01\n",
            " 2.13909671e-01 2.21712887e-01 2.28784278e-01 2.35003710e-01\n",
            " 2.40260765e-01 2.44458303e-01 2.47516572e-01 2.49376029e-01\n",
            " 2.50000000e-01 2.49376029e-01 2.47516587e-01 2.44458303e-01\n",
            " 2.40260705e-01 2.35003710e-01 2.28784218e-01 2.21712887e-01\n",
            " 2.13909671e-01 2.05500260e-01 1.96611926e-01 1.87369838e-01\n",
            " 1.77894443e-01 1.68298304e-01 1.58684835e-01 1.49146438e-01\n",
            " 1.39763758e-01 1.30605742e-01 1.21729344e-01 1.13180213e-01\n",
            " 1.04993574e-01 9.71946642e-02 8.98003504e-02 8.28195363e-02\n",
            " 7.62549862e-02 7.01037124e-02 6.43582866e-02 5.90077341e-02\n",
            " 5.40381111e-02 4.94335368e-02 4.51766551e-02 4.12489809e-02\n",
            " 3.76317799e-02 3.43058519e-02 3.12524699e-02 2.84530446e-02\n",
            " 2.58895643e-02 2.35448945e-02 2.14024913e-02 1.94466617e-02\n",
            " 1.76627338e-02 1.60366967e-02 1.45557523e-02 1.32076964e-02\n",
            " 1.19813140e-02 1.08662117e-02 9.85273253e-03 8.93205591e-03\n",
            " 8.09593033e-03 7.33687775e-03 6.64803293e-03 6.02310384e-03\n",
            " 5.45621011e-03 4.94212657e-03 4.47605969e-03 4.05359641e-03\n",
            " 3.67064914e-03 3.32369935e-03 3.00932792e-03 2.72451527e-03\n",
            " 2.46652518e-03 2.23284843e-03 2.02120445e-03 1.82960229e-03\n",
            " 1.65604567e-03 1.49894902e-03 1.35666353e-03 1.22789398e-03\n",
            " 1.11128297e-03 1.00576843e-03 9.10226954e-04 8.23771697e-04\n",
            " 7.45455211e-04 6.74626499e-04 6.10514835e-04 5.52467944e-04\n",
            " 4.99952002e-04 4.52432781e-04 4.09375789e-04 3.70484311e-04\n",
            " 3.35223274e-04 3.03355162e-04 2.74523190e-04 2.48370430e-04\n",
            " 2.24778167e-04 2.03389267e-04 1.84025266e-04 1.66507642e-04\n",
            " 1.50657841e-04 1.36356830e-04 1.23366393e-04 1.11627036e-04\n",
            " 1.01019665e-04 9.14251650e-05 8.27244003e-05 7.48578314e-05\n",
            " 6.77062926e-05 6.12698204e-05 5.54292455e-05 5.01845934e-05\n",
            " 4.54166766e-05], shape=(201,), dtype=float32)\n"
          ]
        }
      ]
    },
    {
      "cell_type": "code",
      "source": [
        "plt.plot(x, y, label='y')\n",
        "plt.plot(x, dy_dx, label='dy/dx')\n",
        "plt.legend()\n",
        "_ = plt.xlabel('x')"
      ],
      "metadata": {
        "colab": {
          "base_uri": "https://localhost:8080/",
          "height": 449
        },
        "id": "fBYQJRj6oE0e",
        "outputId": "5749a2a9-694d-4d6e-ac1b-dd0e986f43c8"
      },
      "execution_count": null,
      "outputs": [
        {
          "output_type": "display_data",
          "data": {
            "text/plain": [
              "<Figure size 640x480 with 1 Axes>"
            ],
            "image/png": "[encoded data removed]"
          },
          "metadata": {}
        }
      ]
    },
    {
      "cell_type": "markdown",
      "source": [
        "## Control flow\n",
        "\n",
        "Because a gradient tape records operations as they are executed, Python control flow is naturally handled (for example, `if` and `while` statements).\n",
        "\n",
        "Here a different variable is used on each branch of an `if`. The gradient only connects to the variable that was used:"
      ],
      "metadata": {
        "id": "9y8N9wCfoWiv"
      }
    },
    {
      "cell_type": "markdown",
      "source": [
        "그래디언트 테이프는 실행되는 Ops을 기록하기 때문에 Python 제어 흐름이 자연스럽게 처리됩니다(예: if 및 while 문).\n",
        "\n",
        "여기서 if의 각 분기마다 다른 변수가 사용됩니다. 그래디언트는 사용된 변수에만 연결됩니다."
      ],
      "metadata": {
        "id": "biappQ3VoYQW"
      }
    },
    {
      "cell_type": "code",
      "source": [
        "x = tf.constant(1.0)\n",
        "\n",
        "v0 = tf.Variable(2.0)\n",
        "v1 = tf.Variable(2.0)\n",
        "\n",
        "with tf.GradientTape(persistent=True) as tape:\n",
        "  tape.watch(x)\n",
        "  if x > 0.0:\n",
        "    result = v0\n",
        "  else:\n",
        "    result = v1**2\n",
        "\n",
        "dv0, dv1 = tape.gradient(result, [v0, v1])\n",
        "\n",
        "print(\"dv0=\", dv0)\n",
        "print(\"dv1=\", dv1)"
      ],
      "metadata": {
        "colab": {
          "base_uri": "https://localhost:8080/"
        },
        "id": "8fFkt8whoVP7",
        "outputId": "a6bd0ef7-771d-454f-fd58-f4118f3adef7"
      },
      "execution_count": null,
      "outputs": [
        {
          "output_type": "stream",
          "name": "stdout",
          "text": [
            "dv0= tf.Tensor(1.0, shape=(), dtype=float32)\n",
            "dv1= None\n"
          ]
        }
      ]
    },
    {
      "cell_type": "markdown",
      "source": [
        "Just remember that the control statements themselves are not differentiable, so they are invisible to gradient-based optimizers.\n",
        "\n",
        "Depending on the value of `x` in the above example, the tape either records `result = v0` or `result = v1**2`. The gradient with respect to `x` is always `None`."
      ],
      "metadata": {
        "id": "y06mxFzUon24"
      }
    },
    {
      "cell_type": "markdown",
      "source": [
        "제어문 자체는 미분할 수 없으므로 그래디언트 기반 옵티마이저에서는 볼 수 없습니다.\n",
        "\n",
        "위의 예에서 x 값에 따라 테이프는 `result = v0` 또는 `result = v1**2`를 기록합니다. x에 대한 기울기는 항상 없음입니다."
      ],
      "metadata": {
        "id": "2-HJ_n9Vophj"
      }
    },
    {
      "cell_type": "code",
      "source": [
        "dx = tape.gradient(result, x)\n",
        "\n",
        "print(dx)"
      ],
      "metadata": {
        "colab": {
          "base_uri": "https://localhost:8080/"
        },
        "id": "T-3PF6wJorGx",
        "outputId": "9ca37e7f-9c4c-4902-cb3e-134ba76c6236"
      },
      "execution_count": null,
      "outputs": [
        {
          "output_type": "stream",
          "name": "stdout",
          "text": [
            "None\n"
          ]
        }
      ]
    },
    {
      "cell_type": "markdown",
      "source": [
        "## Cases where `gradient` returns `None`\n",
        "\n",
        "When a target is not connected to a source, `gradient` will return `None`.\n"
      ],
      "metadata": {
        "id": "sKO9Lb9VotDx"
      }
    },
    {
      "cell_type": "markdown",
      "source": [
        "target이 소스에 연결되어 있지 않으면 그라디언트는 `None`을 반환합니다."
      ],
      "metadata": {
        "id": "bsQyyRDDou6Q"
      }
    },
    {
      "cell_type": "code",
      "source": [
        "x = tf.Variable(2.)\n",
        "y = tf.Variable(3.)\n",
        "\n",
        "with tf.GradientTape() as tape:\n",
        "  z = y * y\n",
        "\n",
        "print(tape.gradient(z, x))"
      ],
      "metadata": {
        "colab": {
          "base_uri": "https://localhost:8080/"
        },
        "id": "5FE2TjxRowmo",
        "outputId": "2622760e-bf18-45d0-b3f1-7bf764bf2938"
      },
      "execution_count": null,
      "outputs": [
        {
          "output_type": "stream",
          "name": "stdout",
          "text": [
            "None\n"
          ]
        }
      ]
    },
    {
      "cell_type": "markdown",
      "source": [
        "Here `z` is obviously not connected to `x`, but there are several less-obvious ways that a gradient can be disconnected."
      ],
      "metadata": {
        "id": "JrKoltb5oySl"
      }
    },
    {
      "cell_type": "markdown",
      "source": [
        "여기서 z는 분명히 x에 연결되어 있지 않지만 그래디언트 연결을 끊을 수 있는 덜 분명한 방법이 몇 가지 있습니다."
      ],
      "metadata": {
        "id": "n9SbRlVmozuX"
      }
    },
    {
      "cell_type": "markdown",
      "source": [
        "### 1. Replaced a variable with a tensor\n",
        "\n",
        "In the section on [\"controlling what the tape watches\"](#watches) you saw that the tape will automatically watch a `tf.Variable` but not a `tf.Tensor`.\n",
        "\n",
        "One common error is to inadvertently replace a `tf.Variable` with a `tf.Tensor`, instead of using `Variable.assign` to update the `tf.Variable`. Here is an example:"
      ],
      "metadata": {
        "id": "Jv9eeRT3o04R"
      }
    },
    {
      "cell_type": "markdown",
      "source": [
        "\"테이프 감시 대상 제어\" 섹션에서 테이프가 자동으로 tf.Variable을 감시하지만 tf.Tensor는 감시하지 않는 것을 보았습니다.\n",
        "\n",
        "일반적인 오류 중 하나는 **Variable.assign을 사용하여 tf.Variable을 업데이트하는 대신 실수로 tf.Variable을 tf.Tensor로 바꾸는 것**입니다. 다음은 예입니다."
      ],
      "metadata": {
        "id": "tLALGN6Go2il"
      }
    },
    {
      "cell_type": "code",
      "source": [
        "x = tf.Variable(2.0)\n",
        "\n",
        "for epoch in range(2):\n",
        "  with tf.GradientTape() as tape:\n",
        "    y = x+1\n",
        "    print(y)\n",
        "\n",
        "  print(type(x).__name__, \":\", tape.gradient(y, x), \"\\n\")\n",
        "\n",
        "  # print(\"*\" * 60)\n",
        "  # x = x + 1   # This should be `x.assign_add(1)`\n",
        "  # print(x)"
      ],
      "metadata": {
        "colab": {
          "base_uri": "https://localhost:8080/"
        },
        "id": "UmRNeAyho328",
        "outputId": "900fc9af-3a5c-4f05-9b84-c1bc0a7e8748"
      },
      "execution_count": null,
      "outputs": [
        {
          "output_type": "stream",
          "name": "stdout",
          "text": [
            "tf.Tensor(3.0, shape=(), dtype=float32)\n",
            "ResourceVariable : tf.Tensor(1.0, shape=(), dtype=float32) \n",
            "\n",
            "tf.Tensor(3.0, shape=(), dtype=float32)\n",
            "ResourceVariable : tf.Tensor(1.0, shape=(), dtype=float32) \n",
            "\n"
          ]
        }
      ]
    },
    {
      "cell_type": "markdown",
      "source": [
        "### 2. Did calculations outside of TensorFlow\n",
        "\n",
        "The tape can't record the gradient path if the calculation exits TensorFlow.\n",
        "For example:"
      ],
      "metadata": {
        "id": "0eOw_Tpxo5zP"
      }
    },
    {
      "cell_type": "code",
      "source": [
        "x = tf.Variable([[1.0, 2.0],\n",
        "                 [3.0, 4.0]], dtype=tf.float32)\n",
        "\n",
        "with tf.GradientTape() as tape:\n",
        "  x2 = x**2\n",
        "  # print(\"x2=\", x2, \"\\n\")\n",
        "  # This step is calculated with NumPy\n",
        "  y = tf.convert_to_tensor(np.mean(x2, axis=0))  # no\n",
        "  # y = tf.convert_to_tensor(tf.reduce_mean(x2, axis=0)) #yes\n",
        "  # print(\"mean of x2=\", y, \"\\n\")\n",
        "  # Like most ops, reduce_mean will cast the NumPy array to a constant tensor\n",
        "  # using `tf.convert_to_tensor`.\n",
        "  y = tf.convert_to_tensor(tf.reduce_mean(y, axis=0))\n",
        "  # print(\"y=\", y, \"\\n\")\n",
        "\n",
        "print(\"tape.gradient(y, x)=\", tape.gradient(y, x))"
      ],
      "metadata": {
        "colab": {
          "base_uri": "https://localhost:8080/"
        },
        "id": "Rwl_IXD5o6T6",
        "outputId": "e76df134-02c4-4a3c-ae4c-1281ccfb0182"
      },
      "execution_count": null,
      "outputs": [
        {
          "output_type": "stream",
          "name": "stdout",
          "text": [
            "tape.gradient(y, x)= None\n"
          ]
        }
      ]
    },
    {
      "cell_type": "markdown",
      "source": [
        "### 3. Took gradients through an integer or string\n",
        "\n",
        "Integers and strings are not differentiable. If a calculation path uses these data types there will be no gradient.\n",
        "\n",
        "Nobody expects strings to be differentiable, but it's easy to accidentally create an `int` constant or variable if you don't specify the `dtype`."
      ],
      "metadata": {
        "id": "ZLvziDFPo-Px"
      }
    },
    {
      "cell_type": "markdown",
      "source": [
        "정수와 문자열은 미분할 수 없습니다. 계산 경로가 이러한 데이터 유형을 사용하는 경우 기울기가 없습니다.\n",
        "\n",
        "아무도 문자열을 미분할 수 있다고 기대하지 않지만 dtype을 지정하지 않으면 실수로 int 상수나 변수를 생성하기 쉽습니다."
      ],
      "metadata": {
        "id": "9h_QSo-Fo_4J"
      }
    },
    {
      "cell_type": "code",
      "source": [
        "x = tf.constant(10) # integer type\n",
        "\n",
        "with tf.GradientTape() as g:\n",
        "  g.watch(x)\n",
        "  y = x * x\n",
        "\n",
        "print(g.gradient(y, x))"
      ],
      "metadata": {
        "colab": {
          "base_uri": "https://localhost:8080/"
        },
        "id": "7DPhWqyApA-U",
        "outputId": "757ed619-178f-42cd-b6b2-5e883ec65081"
      },
      "execution_count": null,
      "outputs": [
        {
          "output_type": "stream",
          "name": "stderr",
          "text": [
            "WARNING:tensorflow:The dtype of the watched tensor must be floating (e.g. tf.float32), got tf.int32\n"
          ]
        },
        {
          "output_type": "stream",
          "name": "stdout",
          "text": [
            "None\n"
          ]
        }
      ]
    },
    {
      "cell_type": "markdown",
      "source": [
        "TensorFlow doesn't automatically cast between types, so, in practice, you'll often get a type error instead of a missing gradient."
      ],
      "metadata": {
        "id": "ds6rjD_MpI8s"
      }
    },
    {
      "cell_type": "markdown",
      "source": [
        "### 4. Took gradients through a stateful object\n",
        "\n",
        "State stops gradients. When you read from a stateful object, the tape can only observe the current state, not the history that lead to it.\n",
        "\n",
        "A `tf.Tensor` is immutable. You can't change a tensor once it's created. It has a _value_, but no _state_. All the operations discussed so far are also stateless: the output of a `tf.matmul` only depends on its inputs.\n",
        "\n",
        "A `tf.Variable` has internal state—its value. When you use the variable, the state is read. It's normal to calculate a gradient with respect to a variable, but the variable's state blocks gradient calculations from going farther back. For example:\n"
      ],
      "metadata": {
        "id": "EpHev-kepKqe"
      }
    },
    {
      "cell_type": "markdown",
      "source": [
        "[참고](https://stackoverflow.com/questions/52636943/what-is-a-stateful-object-in-tensorflow)"
      ],
      "metadata": {
        "id": "3Lr8rRt9pND4"
      }
    },
    {
      "cell_type": "markdown",
      "source": [
        "`State`는 그라디언트를 중지시킵니다. `stateful object`에서 값을 read할 때 테이프는 현재 `state`만 관찰할 수 있으며 현재 `state`로 이어지는 `history`은 관찰할 수 없습니다.\n",
        "\n",
        "tf.Tensor는 변경할 수 없습니다. 텐서는 생성된 후에는 변경할 수 없습니다. 값은 있지만 state는 없습니다. 지금까지 논의된 모든 ops도 state를 저장하지 않습니다: tf.matmul의 출력은 입력에만 의존합니다.\n",
        "\n",
        "tf.Variable에는 내부 state, 즉 값이 있습니다. 변수를 사용할 때, `state`를 read 합니다. 변수에 대한 기울기를 계산하는 것은 정상이지만, 변수의 상태는 그래디언트 계산이 더 뒤로 가지 않도록 차단(`x1.assign_add(x0)`)합니다. 예를 들어"
      ],
      "metadata": {
        "id": "U15eWWBPpP3X"
      }
    },
    {
      "cell_type": "code",
      "source": [
        "x0 = tf.Variable(3.0)\n",
        "x1 = tf.Variable(0.0)\n",
        "\n",
        "with tf.GradientTape() as tape:\n",
        "  # Update x1 = x1 + x0.\n",
        "  # x1 = x1 + x0  # record\n",
        "  x1.assign_add(x0) # not record\n",
        "  # The tape starts recording from x1.\n",
        "  y = x1**2   # y = (x1 + x0)**2\n",
        "\n",
        "# This doesn't work.\n",
        "print(tape.gradient(y, x0))   #dy/dx0 = 2*(x1 + x0)\n",
        "\n",
        "# # This work.\n",
        "# print(tape.gradient(y, x1))   #dy/dx1 ="
      ],
      "metadata": {
        "colab": {
          "base_uri": "https://localhost:8080/"
        },
        "id": "MUHoxVGIpTH2",
        "outputId": "3887e294-ebe0-4ee9-ae65-fcdbcb0a521f"
      },
      "execution_count": null,
      "outputs": [
        {
          "output_type": "stream",
          "name": "stdout",
          "text": [
            "None\n"
          ]
        }
      ]
    },
    {
      "cell_type": "markdown",
      "source": [
        "Similarly, `tf.data.Dataset` iterators and `tf.queue`s are stateful, and will stop all gradients on tensors that pass through them."
      ],
      "metadata": {
        "id": "aTMnXLfapVNI"
      }
    },
    {
      "cell_type": "markdown",
      "source": [
        "## No gradient registered"
      ],
      "metadata": {
        "id": "yeipKm6ApWxP"
      }
    },
    {
      "cell_type": "markdown",
      "source": [
        "Some `tf.Operation`s are **registered as being non-differentiable** and will return `None`. Others have **no gradient registered**.\n",
        "\n",
        "The `tf.raw_ops` page shows which low-level ops have gradients registered.\n",
        "\n",
        "If you attempt to take a gradient through a float op that has no gradient registered the tape will throw an error instead of silently returning `None`. This way you know something has gone wrong.\n",
        "\n",
        "For example, the `tf.image.adjust_contrast` function wraps `raw_ops.AdjustContrastv2`, which could have a gradient but the gradient is not implemented:\n"
      ],
      "metadata": {
        "id": "MwpzdZ55pX7d"
      }
    },
    {
      "cell_type": "markdown",
      "source": [
        "일부 tf.Operations는 미분할 수 없는 것으로 등록되어 None을 반환합니다. 다른 것들은 등록된 그라디언트가 없습니다.\n",
        "\n",
        "[tf.raw_ops](https://www.tensorflow.org/api_docs/python/tf/raw_ops) 페이지는 등록된 그라디언트가 있는 low-level ops을 보여줍니다.\n",
        "\n",
        "등록된 그라디언트가 없는 float 연산을 통해 그라디언트를 사용하려고 하면 테이프에서 자동으로 None을 반환하는 대신 오류가 발생합니다. 이렇게 하면 문제가 발생했음을 알 수 있습니다.\n",
        "\n",
        "예를 들어, tf.image.adjust_contrast 함수는 그라디언트가 있을 수 있지만 그라디언트가 구현되지 않은 raw_ops.AdjustContrastv2를 래핑합니다."
      ],
      "metadata": {
        "id": "NvmpGv5xpZfZ"
      }
    },
    {
      "cell_type": "code",
      "source": [
        "image = tf.Variable([[[0.5, 0.0, 0.0]]])\n",
        "delta = tf.Variable(0.1)\n",
        "\n",
        "with tf.GradientTape() as tape:\n",
        "  new_image = tf.image.adjust_contrast(image, delta)\n",
        "\n",
        "try:\n",
        "  print(tape.gradient(new_image, [image, delta]))\n",
        "  assert False   # This should not happen.\n",
        "except LookupError as e:\n",
        "  print(f'{type(e).__name__}: {e}')\n"
      ],
      "metadata": {
        "colab": {
          "base_uri": "https://localhost:8080/"
        },
        "id": "iCHPVaaXpcdT",
        "outputId": "1e79c802-6e4b-4c1e-d5d4-4473b67276a6"
      },
      "execution_count": null,
      "outputs": [
        {
          "output_type": "stream",
          "name": "stdout",
          "text": [
            "LookupError: gradient registry has no entry for: AdjustContrastv2\n"
          ]
        }
      ]
    },
    {
      "cell_type": "markdown",
      "source": [
        "If you need to differentiate through this op, you'll either need to implement the gradient and register it (using `tf.RegisterGradient`) or re-implement the function using other ops."
      ],
      "metadata": {
        "id": "fgL3ZxzhpfLE"
      }
    },
    {
      "cell_type": "markdown",
      "source": [
        "## Zeros instead of None"
      ],
      "metadata": {
        "id": "i6KQyKe2pg1D"
      }
    },
    {
      "cell_type": "markdown",
      "source": [
        "In some cases it would be convenient to get 0 instead of `None` for unconnected gradients.  You can decide what to return when you have unconnected gradients using the `unconnected_gradients` argument:"
      ],
      "metadata": {
        "id": "-5m8eWu0ph7n"
      }
    },
    {
      "cell_type": "markdown",
      "source": [
        "어떤 경우에는 연결되지 않은 그라디언트에 대해 None 대신 0을 얻는 것이 편리합니다. unconnected_gradients 인수를 사용하여 연결되지 않은 그라디언트가 있을 때 반환할 항목을 결정할 수 있습니다."
      ],
      "metadata": {
        "id": "KwuI0vP2pjjF"
      }
    },
    {
      "cell_type": "code",
      "source": [
        "x = tf.Variable([2., 2.])\n",
        "y = tf.Variable(3.)\n",
        "\n",
        "with tf.GradientTape() as tape:\n",
        "  z = y**2\n",
        "\n",
        "print(tape.gradient(z, x, unconnected_gradients=tf.UnconnectedGradients.ZERO))"
      ],
      "metadata": {
        "id": "ONBcoe_upkpM",
        "outputId": "de032c47-45bd-43de-9c88-1ad5aa8a623a",
        "colab": {
          "base_uri": "https://localhost:8080/"
        }
      },
      "execution_count": null,
      "outputs": [
        {
          "output_type": "stream",
          "name": "stdout",
          "text": [
            "tf.Tensor([0. 0.], shape=(2,), dtype=float32)\n"
          ]
        }
      ]
    }
  ]
}